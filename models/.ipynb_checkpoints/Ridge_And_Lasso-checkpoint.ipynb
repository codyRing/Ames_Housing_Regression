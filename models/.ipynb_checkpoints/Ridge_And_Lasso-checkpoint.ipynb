{
 "cells": [
  {
   "cell_type": "code",
   "execution_count": 48,
   "metadata": {},
   "outputs": [],
   "source": [
    "#from pandas import Series, DataFrame\n",
    "import numpy as np\n",
    "import seaborn as sns\n",
    "import pandas as pd\n",
    "from pandas import Series\n",
    "\n",
    "from sklearn.linear_model import LinearRegression, Lasso, Ridge\n",
    "from sklearn import metrics\n",
    "from sklearn.model_selection import train_test_split\n",
    "from sklearn.neighbors import KNeighborsClassifier\n",
    "from sklearn.preprocessing import StandardScaler\n",
    "\n",
    "\n",
    "import matplotlib.pyplot as plt\n",
    "from functools import reduce\n",
    "\n",
    "%matplotlib inline"
   ]
  },
  {
   "cell_type": "code",
   "execution_count": 49,
   "metadata": {},
   "outputs": [
    {
     "name": "stdout",
     "output_type": "stream",
     "text": [
      "(2051, 80)\n",
      "(879, 79)\n"
     ]
    }
   ],
   "source": [
    "train = '../data/train.csv'\n",
    "test = '../data/test.csv'\n",
    "index_col = 'Id'\n",
    "\n",
    "data = pd.read_csv(train,index_col = index_col )\n",
    "evaluate = pd.read_csv(test,index_col = index_col )\n",
    "data.sort_index(inplace = True)\n",
    "evaluate.sort_index(inplace = True)\n",
    "\n",
    "\n",
    "\n",
    "print(data.shape) #(R,C)\n",
    "\n",
    "print(evaluate.shape) #(R,C)"
   ]
  },
  {
   "cell_type": "code",
   "execution_count": 50,
   "metadata": {},
   "outputs": [],
   "source": [
    "#remove some outliers\n",
    "data = data.drop([1499]) #Expensive house because of large lot areav"
   ]
  },
  {
   "cell_type": "code",
   "execution_count": 51,
   "metadata": {},
   "outputs": [],
   "source": [
    "#Sum columns for total SQFT\n",
    "data['Total_sqft']= data[['1st Flr SF','2nd Flr SF','BsmtFin SF 1','BsmtFin SF 2','Gr Liv Area','Garage Area','Total Bsmt SF']].sum(axis =1)\n",
    "evaluate['Total_sqft']= evaluate[['1st Flr SF','2nd Flr SF','BsmtFin SF 1','BsmtFin SF 2','Gr Liv Area','Garage Area','Total Bsmt SF']].sum(axis =1)\n",
    "\n",
    "#normalize years but subtracting from 2019\n",
    "data['Age_Build'] = 2019 - data['Year Built']\n",
    "data['Age_Remodel'] = 2019 - data['Year Remod/Add']\n",
    "\n",
    "evaluate['Age_Build'] = 2019 - evaluate['Year Built']\n",
    "evaluate['Age_Remodel'] = 2019 - evaluate['Year Remod/Add']\n",
    "\n",
    "\n",
    "#Dummy Variables\n",
    "categorical_features = ['Overall Qual','Overall Cond','Exter Qual']\n",
    "data = pd.get_dummies(data=data, columns = categorical_features)\n",
    "evaluate = pd.get_dummies(data=evaluate, columns = categorical_features)"
   ]
  },
  {
   "cell_type": "code",
   "execution_count": 52,
   "metadata": {},
   "outputs": [],
   "source": [
    "data['Garage Cars'].fillna(value=0,inplace = True)\n",
    "evaluate['Garage Cars'].fillna(value=0,inplace = True)"
   ]
  },
  {
   "cell_type": "code",
   "execution_count": 53,
   "metadata": {},
   "outputs": [],
   "source": [
    "#Maybe convert the int's to float? warning later when preprocessing data\n",
    "final = ['float64']\n",
    "other =['uint8','int16', 'int32', 'int64', 'float16', 'float32']\n",
    "\n",
    "D_to_convert = data.select_dtypes(include=other).columns\n",
    "E_to_convert = evaluate.select_dtypes(include=other).columns\n",
    "\n",
    "\n",
    "for i in D_to_convert:\n",
    "    data[i] = data[i].astype('float64')\n",
    "    \n",
    "for i in E_to_convert:\n",
    "    evaluate[i] = evaluate[i].astype('float64')"
   ]
  },
  {
   "cell_type": "code",
   "execution_count": 54,
   "metadata": {},
   "outputs": [],
   "source": [
    "features = ['Total_sqft',\n",
    "            'Age_Build',\n",
    "            'Age_Remodel',\n",
    "            #'Year Built',\n",
    "            #'Year Remod/Add',\n",
    "            'Lot Area',\n",
    "            'TotRms AbvGrd',\n",
    "            'Garage Cars',\n",
    "            'Full Bath',\n",
    "            #'Overall Qual_1',\n",
    "            #'Overall Qual_2',\n",
    "            #'Overall Qual_3',\n",
    "            #'Overall Qual_4',\n",
    "            'Overall Qual_5',\n",
    "            'Overall Qual_6',\n",
    "            'Overall Qual_7',\n",
    "            'Overall Qual_8',\n",
    "            'Overall Qual_9',\n",
    "            'Overall Qual_10',\n",
    "            #'Overall Cond_1',\n",
    "            #'Overall Cond_2',\n",
    "            #'Overall Cond_3',\n",
    "            #'Overall Cond_4',\n",
    "            'Overall Cond_5',\n",
    "            'Overall Cond_6',\n",
    "            'Overall Cond_7',\n",
    "            'Overall Cond_8',\n",
    "            'Overall Cond_9',\n",
    "            #'Overall Cond_10',            \n",
    "            'Exter Qual_Ex',\n",
    "            #'Exter Qual_Fa',\n",
    "            #'Exter Qual_Gd',\n",
    "            'Exter Qual_TA',\n",
    "            #'BsmtFin Type 1_GLQ'\n",
    "           ]\n",
    "\n",
    "\n",
    "\n",
    "X = data[features]\n",
    "y = data['SalePrice']\n",
    "X_eval = evaluate[features]"
   ]
  },
  {
   "cell_type": "code",
   "execution_count": 55,
   "metadata": {},
   "outputs": [
    {
     "name": "stdout",
     "output_type": "stream",
     "text": [
      "(1537, 20)\n",
      "(1537,)\n",
      "(513, 20)\n",
      "(513,)\n"
     ]
    }
   ],
   "source": [
    "X_train, X_test, y_train, y_test = train_test_split(X, y,random_state= 23)\n",
    "print(X_train.shape)\n",
    "print(y_train.shape)\n",
    "\n",
    "print(X_test.shape)\n",
    "print(y_test.shape)"
   ]
  },
  {
   "cell_type": "code",
   "execution_count": 29,
   "metadata": {},
   "outputs": [
    {
     "name": "stdout",
     "output_type": "stream",
     "text": [
      "(1538, 20)\n",
      "(1538,)\n",
      "(513, 20)\n",
      "(513,)\n"
     ]
    }
   ],
   "source": [
    "scaler = StandardScaler()\n",
    "X_train = scaler.fit_transform(X_train)\n",
    "X_test = scaler.transform(X_test)\n",
    "\n",
    "X_train = pd.DataFrame(X_train,columns = features)\n",
    "X_test = pd.DataFrame(X_test,columns = features)\n",
    "print(X_train.shape)\n",
    "print(y_train.shape)\n",
    "\n",
    "print(X_test.shape)\n",
    "print(y_test.shape)"
   ]
  },
  {
   "cell_type": "code",
   "execution_count": 56,
   "metadata": {},
   "outputs": [],
   "source": [
    "#model = Ridge(alpha=.05, normalize = True)\n",
    "model = Lasso(alpha=.3, normalize = True)\n",
    "#model = LinearRegression()\n",
    "\n",
    "model.fit(X_train,y_train)\n",
    "y_pred = model.predict(X_test)"
   ]
  },
  {
   "cell_type": "code",
   "execution_count": 57,
   "metadata": {},
   "outputs": [
    {
     "name": "stdout",
     "output_type": "stream",
     "text": [
      "The coefficient for Total_sqft is 19.30867188657152\n",
      "The coefficient for Age_Build is -368.8701667084507\n",
      "The coefficient for Age_Remodel is -165.6481030169964\n",
      "The coefficient for Lot Area is 1.1296128052621757\n",
      "The coefficient for TotRms AbvGrd is 1953.5487962854281\n",
      "The coefficient for Garage Cars is 3056.066898034857\n",
      "The coefficient for Full Bath is 2455.00262221238\n",
      "The coefficient for Overall Qual_5 is 2232.9471497561403\n",
      "The coefficient for Overall Qual_6 is 11655.37639202674\n",
      "The coefficient for Overall Qual_7 is 26975.12019358145\n",
      "The coefficient for Overall Qual_8 is 62560.996921660335\n",
      "The coefficient for Overall Qual_9 is 119469.68400912783\n",
      "The coefficient for Overall Qual_10 is 123345.14076482443\n",
      "The coefficient for Overall Cond_5 is 18641.068542296027\n",
      "The coefficient for Overall Cond_6 is 24696.564602222854\n",
      "The coefficient for Overall Cond_7 is 34850.65485039893\n",
      "The coefficient for Overall Cond_8 is 36706.41921887636\n",
      "The coefficient for Overall Cond_9 is 36401.883740433026\n",
      "The coefficient for Exter Qual_Ex is 28101.66269650163\n",
      "The coefficient for Exter Qual_TA is -8624.516732919252\n"
     ]
    },
    {
     "data": {
      "image/png": "[encoded data removed]",
      "text/plain": [
       "<Figure size 432x288 with 1 Axes>"
      ]
     },
     "metadata": {
      "needs_background": "light"
     },
     "output_type": "display_data"
    }
   ],
   "source": [
    "#checking the magnitude of coefficients\n",
    "\n",
    "predictors = X_train.columns\n",
    "\n",
    "coef = Series(model.coef_,predictors).sort_values()\n",
    "\n",
    "coef.plot(kind='bar', title='Modal Coefficients')\n",
    "\n",
    "for idx, col_name in enumerate(X_train.columns):\n",
    "    print(\"The coefficient for {} is {}\".format(col_name, model.coef_[idx]))\n",
    "    ;"
   ]
  },
  {
   "cell_type": "code",
   "execution_count": 58,
   "metadata": {},
   "outputs": [
    {
     "name": "stdout",
     "output_type": "stream",
     "text": [
      "R-squared =  0.9024154966421871\n",
      "RMSE =  25652.1590414882\n"
     ]
    }
   ],
   "source": [
    "\n",
    "print(\"R-squared = \", model.score(X_test, y_test))  \n",
    "\n",
    "print(\"RMSE = \",np.sqrt(metrics.mean_squared_error(y_test, y_pred)))"
   ]
  },
  {
   "cell_type": "code",
   "execution_count": 47,
   "metadata": {},
   "outputs": [],
   "source": [
    "#hapy with results train the model on the full data set and out put eval predictions\n",
    "lasso = Lasso(alpha=.3, normalize = True)\n",
    "lasso.fit(X, y)\n",
    "y_pred_eval = lasso.predict(X_eval)\n",
    "\n",
    "y_pred_eval= pd.DataFrame(y_pred_eval,index=X_eval.index)\n",
    "y_pred_eval.rename(columns={y_pred_eval.columns[0]:'SalePrice'}, inplace=True)\n",
    "y_pred_eval.to_csv('../results/Lasso_A.csv')\n",
    "\n"
   ]
  },
  {
   "cell_type": "code",
   "execution_count": null,
   "metadata": {},
   "outputs": [],
   "source": []
  }
 ],
 "metadata": {
  "kernelspec": {
   "display_name": "Python 3",
   "language": "python",
   "name": "python3"
  },
  "language_info": {
   "codemirror_mode": {
    "name": "ipython",
    "version": 3
   },
   "file_extension": ".py",
   "mimetype": "text/x-python",
   "name": "python",
   "nbconvert_exporter": "python",
   "pygments_lexer": "ipython3",
   "version": "3.7.3"
  }
 },
 "nbformat": 4,
 "nbformat_minor": 2
}
