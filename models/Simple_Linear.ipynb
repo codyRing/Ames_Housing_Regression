{
 "cells": [
  {
   "cell_type": "code",
   "execution_count": 199,
   "metadata": {},
   "outputs": [],
   "source": [
    "from pandas import Series, DataFrame\n",
    "import numpy as np\n",
    "import seaborn as sns\n",
    "#import pandas as np\n",
    "\n",
    "from sklearn.linear_model import LinearRegression, Lasso\n",
    "from sklearn import metrics\n",
    "from sklearn.model_selection import train_test_split\n",
    "from sklearn.preprocessing import StandardScaler\n",
    "\n",
    "\n",
    "import matplotlib.pyplot as plt\n",
    "from functools import reduce\n",
    "\n",
    "%matplotlib inline"
   ]
  },
  {
   "cell_type": "code",
   "execution_count": 200,
   "metadata": {},
   "outputs": [
    {
     "name": "stdout",
     "output_type": "stream",
     "text": [
      "(2051, 80)\n",
      "(879, 79)\n"
     ]
    }
   ],
   "source": [
    "train = '../data/train.csv'\n",
    "test = '../data/test.csv'\n",
    "index_col = 'Id'\n",
    "\n",
    "data = pd.read_csv(train,index_col = index_col )\n",
    "evaluate = pd.read_csv(test,index_col = index_col )\n",
    "data.sort_index(inplace = True)\n",
    "evaluate.sort_index(inplace = True)\n",
    "\n",
    "print(data.shape) #(R,C)\n",
    "\n",
    "print(evaluate.shape) #(R,C)"
   ]
  },
  {
   "cell_type": "code",
   "execution_count": 201,
   "metadata": {},
   "outputs": [],
   "source": [
    "#Sum columns for total SQFT\n",
    "data['Total_sqft']= data[['1st Flr SF','2nd Flr SF','BsmtFin SF 1','BsmtFin SF 2','Gr Liv Area','Garage Area','Total Bsmt SF']].sum(axis =1)\n",
    "evaluate['Total_sqft']= evaluate[['1st Flr SF','2nd Flr SF','BsmtFin SF 1','BsmtFin SF 2','Gr Liv Area','Garage Area','Total Bsmt SF']].sum(axis =1)\n",
    "\n",
    "#normalize years but subtracting from 2019\n",
    "data['Age_Build'] = 2019 - data['Year Built']\n",
    "data['Age_Remodel'] = 2019 - data['Year Remod/Add']\n",
    "\n",
    "evaluate['Age_Build'] = 2019 - evaluate['Year Built']\n",
    "evaluate['Age_Remodel'] = 2019 - evaluate['Year Remod/Add']\n"
   ]
  },
  {
   "cell_type": "code",
   "execution_count": 202,
   "metadata": {},
   "outputs": [],
   "source": [
    "#Dummy Variables\n",
    "categorical_features = ['Overall Qual','Overall Cond','Exter Qual']\n",
    "data = pd.get_dummies(data=data, columns = categorical_features)\n",
    "evaluate = pd.get_dummies(data=evaluate, columns = categorical_features)"
   ]
  },
  {
   "cell_type": "code",
   "execution_count": 203,
   "metadata": {},
   "outputs": [],
   "source": [
    "data['Garage Cars'].fillna(value=0,inplace = True)\n",
    "evaluate['Garage Cars'].fillna(value=0,inplace = True)"
   ]
  },
  {
   "cell_type": "code",
   "execution_count": 204,
   "metadata": {},
   "outputs": [],
   "source": [
    "#Maybe convert the int's to float? warning later when preprocessing data\n",
    "final = ['float64']\n",
    "other =['uint8','int16', 'int32', 'int64', 'float16', 'float32']\n",
    "\n",
    "D_to_convert = data.select_dtypes(include=other).columns\n",
    "E_to_convert = evaluate.select_dtypes(include=other).columns\n",
    "\n",
    "\n",
    "for i in D_to_convert:\n",
    "    data[i] = data[i].astype('float64')\n",
    "    \n",
    "for i in E_to_convert:\n",
    "    evaluate[i] = evaluate[i].astype('float64')\n",
    "    \n"
   ]
  },
  {
   "cell_type": "code",
   "execution_count": 205,
   "metadata": {},
   "outputs": [],
   "source": [
    "features = ['Total_sqft',\n",
    "            'Age_Build',\n",
    "            'Age_Remodel',\n",
    "            #'Year Built',\n",
    "            #'Year Remod/Add',\n",
    "            'Lot Area',\n",
    "            'TotRms AbvGrd',\n",
    "            'Garage Cars',\n",
    "            'Full Bath',\n",
    "            #'Overall Qual_1',\n",
    "            #'Overall Qual_2',\n",
    "            #'Overall Qual_3',\n",
    "            #'Overall Qual_4',\n",
    "            'Overall Qual_5',\n",
    "            'Overall Qual_6',\n",
    "            'Overall Qual_7',\n",
    "            'Overall Qual_8',\n",
    "            'Overall Qual_9',\n",
    "            'Overall Qual_10',\n",
    "            #'Overall Cond_1',\n",
    "            #'Overall Cond_2',\n",
    "            #'Overall Cond_3',\n",
    "            #'Overall Cond_4',\n",
    "            'Overall Cond_5',\n",
    "            'Overall Cond_6',\n",
    "            'Overall Cond_7',\n",
    "            'Overall Cond_8',\n",
    "            'Overall Cond_9',\n",
    "            #'Overall Cond_10',            \n",
    "            'Exter Qual_Ex',\n",
    "            #'Exter Qual_Fa',\n",
    "            #'Exter Qual_Gd',\n",
    "            'Exter Qual_TA',\n",
    "            #'BsmtFin Type 1_GLQ'\n",
    "           ]\n",
    "\n",
    "\n",
    "\n",
    "X = data[features]\n",
    "y = data['SalePrice']\n",
    "X_eval = evaluate[features]"
   ]
  },
  {
   "cell_type": "code",
   "execution_count": 206,
   "metadata": {},
   "outputs": [
    {
     "name": "stdout",
     "output_type": "stream",
     "text": [
      "(1538, 20)\n",
      "(1538,)\n",
      "(513, 20)\n",
      "(513,)\n"
     ]
    }
   ],
   "source": [
    "X_train, X_test, y_train, y_test = train_test_split(X, y,random_state= 23)\n",
    "print(X_train.shape)\n",
    "print(y_train.shape)\n",
    "\n",
    "print(X_test.shape)\n",
    "print(y_test.shape)"
   ]
  },
  {
   "cell_type": "code",
   "execution_count": 207,
   "metadata": {},
   "outputs": [
    {
     "name": "stdout",
     "output_type": "stream",
     "text": [
      "(1538, 20)\n",
      "(1538,)\n",
      "(513, 20)\n",
      "(513,)\n"
     ]
    }
   ],
   "source": [
    "scaler = StandardScaler()\n",
    "X_train = scaler.fit_transform(X_train)\n",
    "X_test = scaler.transform(X_test)\n",
    "\n",
    "X_train = pd.DataFrame(X_train,columns = features)\n",
    "X_test = pd.DataFrame(X_test,columns = features)\n",
    "print(X_train.shape)\n",
    "print(y_train.shape)\n",
    "\n",
    "print(X_test.shape)\n",
    "print(y_test.shape)"
   ]
  },
  {
   "cell_type": "code",
   "execution_count": 208,
   "metadata": {},
   "outputs": [],
   "source": [
    "lr = LinearRegression()\n",
    "lr.fit(X_train, y_train)\n",
    "y_pred = lr.predict(X_test)"
   ]
  },
  {
   "cell_type": "code",
   "execution_count": 210,
   "metadata": {},
   "outputs": [
    {
     "name": "stdout",
     "output_type": "stream",
     "text": [
      "The coefficient for Total_sqft is 22890.194797000062\n",
      "The coefficient for Age_Build is -10516.370620560021\n",
      "The coefficient for Age_Remodel is -2869.37778517986\n",
      "The coefficient for Lot Area is 5621.30224620125\n",
      "The coefficient for TotRms AbvGrd is 5542.012328034487\n",
      "The coefficient for Garage Cars is 5871.31257261119\n",
      "The coefficient for Full Bath is 2629.6988395073354\n",
      "The coefficient for Overall Qual_5 is 2931.153446588168\n",
      "The coefficient for Overall Qual_6 is 7336.121459885174\n",
      "The coefficient for Overall Qual_7 is 13600.125778155074\n",
      "The coefficient for Overall Qual_8 is 23295.566145688983\n",
      "The coefficient for Overall Qual_9 is 24267.405366567513\n",
      "The coefficient for Overall Qual_10 is 12880.702767406334\n",
      "The coefficient for Overall Cond_5 is 9109.995362253077\n",
      "The coefficient for Overall Cond_6 is 9819.097771349758\n",
      "The coefficient for Overall Cond_7 is 12304.680271653628\n",
      "The coefficient for Overall Cond_8 is 7828.9759194552735\n",
      "The coefficient for Overall Cond_9 is 5140.3035201933\n",
      "The coefficient for Exter Qual_Ex is 5711.664844512804\n",
      "The coefficient for Exter Qual_TA is -4448.731359785132\n"
     ]
    },
    {
     "data": {
      "image/png": "[encoded data removed]",
      "text/plain": [
       "<Figure size 432x288 with 1 Axes>"
      ]
     },
     "metadata": {
      "needs_background": "light"
     },
     "output_type": "display_data"
    }
   ],
   "source": [
    "#checking the magnitude of coefficients\n",
    "\n",
    "predictors = X_train.columns\n",
    "\n",
    "coef = Series(lr.coef_,predictors).sort_values()\n",
    "\n",
    "coef.plot(kind='bar', title='Modal Coefficients')\n",
    "\n",
    "for idx, col_name in enumerate(X_train.columns):\n",
    "    print(\"The coefficient for {} is {}\".format(col_name, lr.coef_[idx]))\n",
    "    ;"
   ]
  },
  {
   "cell_type": "code",
   "execution_count": 211,
   "metadata": {},
   "outputs": [
    {
     "name": "stdout",
     "output_type": "stream",
     "text": [
      "R-squared =  0.8897712812570537\n",
      "RMSE =  27450.995070217523\n"
     ]
    }
   ],
   "source": [
    "\n",
    "print(\"R-squared = \", lr.score(X_test, y_test))  \n",
    "\n",
    "print(\"RMSE = \",np.sqrt(metrics.mean_squared_error(y_test, y_pred)))\n"
   ]
  },
  {
   "cell_type": "code",
   "execution_count": 212,
   "metadata": {},
   "outputs": [
    {
     "data": {
      "text/plain": [
       "''"
      ]
     },
     "execution_count": 212,
     "metadata": {},
     "output_type": "execute_result"
    },
    {
     "data": {
      "image/png": "[encoded data removed]",
      "text/plain": [
       "<Figure size 432x288 with 1 Axes>"
      ]
     },
     "metadata": {
      "needs_background": "light"
     },
     "output_type": "display_data"
    }
   ],
   "source": [
    "fig,ax = plt.subplots()\n",
    "ax.scatter(y_test, y_pred)\n",
    "ax.plot([y.min(), y.max()], [y.min(), y.max()], 'k--', lw=4)\n",
    "ax.set_xlabel('Measured')\n",
    "ax.set_ylabel('Predicted')\n",
    ";"
   ]
  },
  {
   "cell_type": "code",
   "execution_count": 214,
   "metadata": {},
   "outputs": [],
   "source": [
    "#hapy with results train the model on the full data set and out put eval predictions\n",
    "lr = LinearRegression()\n",
    "lr.fit(X, y)\n",
    "y_pred_eval = lr.predict(X_eval)\n",
    "\n",
    "y_pred_eval= pd.DataFrame(y_pred_eval,index=X_eval.index)\n",
    "y_pred_eval.rename(columns={y_pred_eval.columns[0]:'SalePrice'}, inplace=True)\n",
    "y_pred_eval.to_csv('../results/Simple_Linear.csv')\n",
    "\n"
   ]
  },
  {
   "cell_type": "code",
   "execution_count": null,
   "metadata": {},
   "outputs": [],
   "source": []
  }
 ],
 "metadata": {
  "kernelspec": {
   "display_name": "Python 3",
   "language": "python",
   "name": "python3"
  },
  "language_info": {
   "codemirror_mode": {
    "name": "ipython",
    "version": 3
   },
   "file_extension": ".py",
   "mimetype": "text/x-python",
   "name": "python",
   "nbconvert_exporter": "python",
   "pygments_lexer": "ipython3",
   "version": "3.7.3"
  }
 },
 "nbformat": 4,
 "nbformat_minor": 2
}
